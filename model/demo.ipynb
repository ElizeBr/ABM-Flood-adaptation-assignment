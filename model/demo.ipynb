{
 "cells": [
  {
   "attachments": {},
   "cell_type": "markdown",
   "metadata": {},
   "source": [
    "# Flood Adaptation: Minimal Model"
   ]
  },
  {
   "attachments": {},
   "cell_type": "markdown",
   "metadata": {},
   "source": [
    "This python script outlines a basic Agent-Based Model (ABM) developed using the Mesa framework, designed as a simplified representation of household adaptation to flood events in a social network context. The model serves as a template for understanding the fundamental mechanics of flood adapdtation with a given social network.\n",
    "\n",
    "This directory is structured as follows:\n",
    " - A Mesa Agent class `Households` is defined in `agents.py`\n",
    " - A Mesa Agent class `Government` is defined in `agents.py` (this agent currently does not perform any action)\n",
    " - A Mesa Model class `AdaptationModel` is defined in `model.py`\n",
    " - This notebook `demo.ipynb` provides a demonstration of the model and its visualization.\n",
    "\n",
    "Each household agent in the model represents a household with attributes and behaviors that determine its response to flood events. The flood depth attribute assigned to each household is currently random for demonstration purposes. The decision by each household to adapt is also arbitrary. In a more comprehensive model, this could be replaced with more sophisticated decision-making algorithms.\n",
    "\n",
    "The current implementation includes several simplifications and arbitrary choices, such as random flood depths and basic adaptation logic based on random thresholds. These aspects are designed for clarity and ease of understanding and should be replaced with realistic and sound choices.\n",
    "\n",
    "You are encouraged to modify, expand, and customize the model. This might include integrating real-world data, implementing more complex decision-making processes for agents, or exploring different network topologies and their effects on social dynamics.\n",
    "\n",
    "The visualisation provided is basic. Additional aspects can be added for visualization and more in-depth analysis.\n",
    "\n",
    "_This notebook was tested on 2023-11-13 with Mesa version 2.1.4 on Python 3.12.0._"
   ]
  },
  {
   "attachments": {},
   "cell_type": "markdown",
   "metadata": {},
   "source": [
    "# Running the model and visualizing the model domain and social network over time"
   ]
  },
  {
   "cell_type": "code",
   "execution_count": null,
   "metadata": {},
   "outputs": [],
   "source": [
    "from model import AdaptationModel\n",
    "from agents import Government, Households\n",
    "import matplotlib.pyplot as plt\n",
    "import networkx as nx\n",
    "import seaborn as sns\n",
    "from mesa.batchrunner import batch_run\n",
    "import pandas as pd\n",
    "\n",
    "# Initialize the Adaptation Model with 50 household agents.\n",
    "model = AdaptationModel(number_of_households=25, flood_map_choice=\"harvey\",network=\"watts_strogatz\") # flood_map_choice can be \"harvey\", \"100yr\", or \"500yr\"\n",
    "\n",
    "params = {\n",
    "    \"flood_warning\":[1.5,1.5,1.5] #To run a base case multiple times\n",
    "    #\"flood_warning\": [0, 0.05,0.1, 0.15, 0.2, 0.25, 0.8],\n",
    "    # \"discount_rate\": [0.9, 0.97, 0.975, 0.98, 0.985, 0.99, 0.995],\n",
    "    # \"fine\": [0,500,1000, 2000, 4000, 20000],\n",
    "    #max_trust_value\": [0.1,0.3, 0.8],\n",
    "    #\"elevation_costs_per_square_metre\": [100,290,400,1500],    \n",
    "        }\n",
    "\n",
    "batch_run = batch_run(\n",
    "        AdaptationModel,  \n",
    "        parameters=params,\n",
    "        iterations=5,  \n",
    "        max_steps=80,  \n",
    "        number_processes=1,\n",
    "        data_collection_period=1,\n",
    "        display_progress=True,\n",
    "    )\n",
    "\n",
    "\n",
    "# Calculate positions of nodes for the network plot.\n",
    "# The spring_layout function positions nodes using a force-directed algorithm,\n",
    "# which helps visualize the structure of the social network.\n",
    "pos = nx.spring_layout(model.G)\n",
    "\n",
    "# Define a function to plot agents on the network.\n",
    "# This function takes a matplotlib axes object and the model as inputs.\n",
    "def plot_network(ax, model):\n",
    "    # Clear the current axes.\n",
    "    ax.clear()\n",
    "    # Determine the color of each node (agent) based on their adaptation status.\n",
    "    for agent in model.schedule.agents:\n",
    "        if isinstance(agent, Households):\n",
    "            colors = 'blue' if agent.desire_to_take_measures else 'red' \n",
    "        #elif isinstance(agent, Government):\n",
    "            #colors = 'green'\n",
    "    # Draw the network with node colors and labels.\n",
    "    nx.draw(model.G, pos, node_color=colors, with_labels=True, ax=ax)\n",
    "    # Set the title of the plot with the current step number.\n",
    "    ax.set_title(f\"Social Network State at Step {model.schedule.steps}\", fontsize=12)\n",
    "\n",
    "# Generate the initial plots at step 0.\n",
    "# Plot the spatial distribution of agents. This is a function written in the model.py\n",
    "# model.plot_model_domain_with_agents()\n",
    "# \n",
    "# # Plot the initial state of the social network.\n",
    "# fig, ax = plt.subplots(figsize=(7, 7))\n",
    "# plot_network(ax, model)\n",
    "# plt.show()\n",
    "\n",
    "# Run the model for 20 steps and generate plots every 5 steps.\n",
    "for step in range(80):\n",
    "    model.step()\n",
    "\n",
    "    # Every 5 steps, generate and display plots for both the spatial distribution and network.\n",
    "    # Note the first step is step 0, so the plots will be generated at steps 4, 9, 14, and 19, which are the 5th, 10th, 15th, and 20th steps.\n",
    "    # if (step + 1) % 5 == 0:\n",
    "        # Plot for the spatial map showing agent locations and adaptation status.\n",
    "        # plt.figure(figsize=(10, 6))\n",
    "        # model.plot_model_domain_with_agents()\n",
    "        # \n",
    "        # # Plot for the social network showing connections and adaptation statuses.\n",
    "        # fig, ax = plt.subplots(figsize=(7, 7))\n",
    "        # plot_network(ax, model)\n",
    "        # plt.show()"
   ]
  },
  {
   "cell_type": "code",
   "execution_count": null,
   "metadata": {},
   "outputs": [],
   "source": [
    "agent_data = model.datacollector.get_agent_vars_dataframe()\n",
    "agent_data\n"
   ]
  },
  {
   "cell_type": "code",
   "execution_count": null,
   "metadata": {},
   "outputs": [],
   "source": [
    "model_data = model.datacollector.get_model_vars_dataframe()\n",
    "model_data"
   ]
  },
  {
   "cell_type": "code",
   "execution_count": null,
   "outputs": [],
   "source": [
    "batch_data = pd.DataFrame(batch_run)\n",
    "batch_data"
   ],
   "metadata": {
    "collapsed": false
   }
  },
  {
   "cell_type": "code",
   "execution_count": null,
   "outputs": [],
   "source": [],
   "metadata": {
    "collapsed": false
   }
  },
  {
   "cell_type": "code",
   "execution_count": null,
   "outputs": [],
   "source": [
    "model_data = model.datacollector.get_model_vars_dataframe()\n",
    "g = sns.lineplot(data=model_data)"
   ],
   "metadata": {
    "collapsed": false
   }
  },
  {
   "cell_type": "code",
   "execution_count": null,
   "metadata": {},
   "outputs": [],
   "source": [
    "model_data = model.datacollector.get_model_vars_dataframe()\n",
    "adapted_households = model_data['total_adapted_households'].values\n",
    "g = sns.lineplot(data=adapted_households)\n",
    "g.set(title=\"Adapted households over time\", ylabel=\"Number of adapted households\");"
   ]
  },
  {
   "cell_type": "code",
   "execution_count": null,
   "outputs": [],
   "source": [
    "agent_data = model.datacollector.get_agent_vars_dataframe()\n",
    "perceived_flood_probability = agent_data['PerceivedFloodProbability'].values\n",
    "g = sns.lineplot(data=perceived_flood_probability)\n",
    "g.set(title=\"Perceived flood probability\", ylabel=\"Perceived flood probability\");"
   ],
   "metadata": {
    "collapsed": false
   }
  },
  {
   "cell_type": "code",
   "execution_count": null,
   "outputs": [],
   "source": [
    "plt.plot(model.average_perceived_flood_probability_over_time)\n",
    "plt.xlabel('Time Step')\n",
    "plt.ylabel('Average Perceived Flood Probability')\n",
    "plt.title('Average Perceived Flood Probability Over Time')\n",
    "plt.show()"
   ],
   "metadata": {
    "collapsed": false
   }
  },
  {
   "cell_type": "code",
   "execution_count": null,
   "outputs": [],
   "source": [
    "agent_data = model.datacollector.get_agent_vars_dataframe()\n",
    "perceived_flood_probability = agent_data['FinedTotal'].values\n",
    "g = sns.lineplot(data=perceived_flood_probability)\n",
    "g.set(title=\"Total fined\", ylabel=\"Fined in total\");"
   ],
   "metadata": {
    "collapsed": false
   }
  },
  {
   "cell_type": "code",
   "execution_count": null,
   "outputs": [],
   "source": [
    "agent_data = model.datacollector.get_agent_vars_dataframe()\n",
    "perceived_flood_probability = agent_data['PerceivedFloodProbability'].values\n",
    "g = sns.histplot(perceived_flood_probability, discrete= False)\n",
    "g.set(title=\"Perceived flood probability\", ylabel=\"Number of timesteps\");"
   ],
   "metadata": {
    "collapsed": false
   }
  },
  {
   "cell_type": "code",
   "execution_count": null,
   "outputs": [],
   "source": [],
   "metadata": {
    "collapsed": false
   }
  },
  {
   "cell_type": "code",
   "execution_count": null,
   "outputs": [],
   "source": [],
   "metadata": {
    "collapsed": false
   }
  }
 ],
 "metadata": {
  "kernelspec": {
   "display_name": "tb231c",
   "language": "python",
   "name": "python3"
  },
  "language_info": {
   "codemirror_mode": {
    "name": "ipython",
    "version": 3
   },
   "file_extension": ".py",
   "mimetype": "text/x-python",
   "name": "python",
   "nbconvert_exporter": "python",
   "pygments_lexer": "ipython3",
   "version": "3.9.15"
  },
  "orig_nbformat": 4,
  "vscode": {
   "interpreter": {
    "hash": "ba734c44879edc1aadd96d1483e3c8c4b172ceac85e15a48cc8368b614d0488f"
   }
  }
 },
 "nbformat": 4,
 "nbformat_minor": 2
}
